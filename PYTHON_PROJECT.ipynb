{
 "cells": [
  {
   "cell_type": "code",
   "execution_count": 1,
   "id": "567496ed-9a84-48bb-97c8-d652a77c1751",
   "metadata": {},
   "outputs": [],
   "source": [
    "#FACTORY PRODUCT DATA BASE "
   ]
  },
  {
   "cell_type": "code",
   "execution_count": 1,
   "id": "5b60dee0-d7fd-4ada-9e14-ea62a281acdd",
   "metadata": {},
   "outputs": [
    {
     "name": "stdout",
     "output_type": "stream",
     "text": [
      "\t\t\t\t\t\t Welcome to Factory Database!\n",
      "1. INVENTORY\n",
      "2. ADD NEW ITEMS \n",
      "3. REMOVE NEW ITEMS\n",
      "4. UPDATE STOCK\n",
      "5. VIEW STOCK\n",
      "6. EXIT\n"
     ]
    },
    {
     "name": "stdin",
     "output_type": "stream",
     "text": [
      "Enter the number of choice to explore the database=  2\n",
      "Enter name of new item or type 'cancel' to go back to main page:  h\n",
      "Enter stock:  34\n",
      "Enter price:  34\n"
     ]
    },
    {
     "ename": "NameError",
     "evalue": "name 'Inventory' is not defined",
     "output_type": "error",
     "traceback": [
      "\u001b[0;31m---------------------------------------------------------------------------\u001b[0m",
      "\u001b[0;31mNameError\u001b[0m                                 Traceback (most recent call last)",
      "Cell \u001b[0;32mIn[1], line 32\u001b[0m\n\u001b[1;32m     30\u001b[0m         stock \u001b[38;5;241m=\u001b[39m \u001b[38;5;28mint\u001b[39m(\u001b[38;5;28minput\u001b[39m(\u001b[38;5;124m\"\u001b[39m\u001b[38;5;124mEnter stock: \u001b[39m\u001b[38;5;124m\"\u001b[39m))\n\u001b[1;32m     31\u001b[0m         price \u001b[38;5;241m=\u001b[39m \u001b[38;5;28mint\u001b[39m(\u001b[38;5;28minput\u001b[39m(\u001b[38;5;124m\"\u001b[39m\u001b[38;5;124mEnter price: \u001b[39m\u001b[38;5;124m\"\u001b[39m))\n\u001b[0;32m---> 32\u001b[0m         Inventory[name] \u001b[38;5;241m=\u001b[39m [stock, price]\n\u001b[1;32m     33\u001b[0m         \u001b[38;5;28mprint\u001b[39m(\u001b[38;5;124mf\u001b[39m\u001b[38;5;124m\"\u001b[39m\u001b[38;5;132;01m{\u001b[39;00mname\u001b[38;5;132;01m}\u001b[39;00m\u001b[38;5;124m added to inventory.\u001b[39m\u001b[38;5;124m\"\u001b[39m)\n\u001b[1;32m     35\u001b[0m \u001b[38;5;28;01melif\u001b[39;00m choice \u001b[38;5;241m==\u001b[39m\u001b[38;5;241m3\u001b[39m:\n",
      "\u001b[0;31mNameError\u001b[0m: name 'Inventory' is not defined"
     ]
    }
   ],
   "source": [
    "def main_page():\n",
    "    print('\\t\\t\\t\\t\\t\\t Welcome to Factory Database!')\n",
    "    print('1. INVENTORY'),\n",
    "    print('2. ADD NEW ITEMS '),\n",
    "    print('3. REMOVE NEW ITEMS'),\n",
    "    print('4. UPDATE STOCK')\n",
    "    print('5. VIEW STOCK')\n",
    "    print('6. EXIT')\n",
    "\n",
    "main_page()\n",
    "\n",
    "choice= int(input('Enter the number of choice to explore the database= '))\n",
    "\n",
    "if choice == 1:\n",
    "    print(\"    \")\n",
    "    print ('\\t\\t\\t\\t\\t\\t Welcome to Inventory')\n",
    "    print('     ')\n",
    "    print('\\t', Inventory)\n",
    "    \n",
    "elif choice == 2:\n",
    "    name = input(\"Enter name of new item or type 'cancel' to go back to main page: \")\n",
    "\n",
    "    if name.lower() == 'cancel':\n",
    "        main_page()\n",
    "\n",
    "    elif name in ['Gear', 'gear','bolts','Bolts','nuts','Nuts','wire', 'Wire']:\n",
    "        print(\"This item already exists. Use 'Update Stock' option instead.\")\n",
    "\n",
    "    else:\n",
    "        stock = int(input(\"Enter stock: \"))\n",
    "        price = int(input(\"Enter price: \"))\n",
    "        Inventory[name] = [stock, price]\n",
    "        print(f\"{name} added to inventory.\")\n",
    "        \n",
    "elif choice ==3:\n",
    "    print(\"    \")\n",
    "    name = str(input(\"Enter name of item to remove: \"))\n",
    "    if name in Inventory:\n",
    "        del Inventory[name]\n",
    "        print(f\"{name} removed from inventory.\")\n",
    "    else:\n",
    "        print(\"Item not found.\")\n",
    "        \n",
    "\n",
    "elif choice == 4:\n",
    "    print(\"    \")\n",
    "    name = input(\"Enter name of item to update: \")\n",
    "    print(\"    \")\n",
    "    if name in Inventory:\n",
    "        new_stock = input(\"Enter new stock (or press Enter to skip): \")\n",
    "        new_price = input(\"Enter new price (or press Enter to skip): \")\n",
    "    \n",
    "        if new_stock:\n",
    "            Inventory[name][0] = new_stock\n",
    "            print(f\"Stock for {name} updated to {new_stock}\")\n",
    "        \n",
    "        if new_price:\n",
    "            Inventory[name][1] = new_price\n",
    "            print(f\"Price for {name} updated to {new_price}\")\n",
    "            print(\"    \")\n",
    "            print(\"Updated list of items\")\n",
    "            Stock_report()\n",
    "            print('Visual Levels of Stock')\n",
    "            items=Inventory.keys()\n",
    "            stocks = [int(Inventory[item][0]) for item in items]\n",
    "            plt.bar(items, stocks, color='Blue')\n",
    "            plt.xlabel(\"Items\")\n",
    "            plt.ylabel(\"Stock Quantity\")\n",
    "            plt.title(\"Stock Levels in Inventory\")\n",
    "            plt.show()\n",
    "    \n",
    "        if not new_stock and not new_price:\n",
    "            print(\"No changes made.\")\n",
    "    else:\n",
    "        print(\"Item not found.\")\n",
    "        \n",
    "elif choice == 5:\n",
    "    print(\"    \")\n",
    "    print(\"\\n\\t\\t\\t\\t\\t\\t Stock Report\")\n",
    "    for item, values in Inventory.items():\n",
    "        print(f\"{item} : Stock = {values[0]}, Price = {values[1]}\")\n",
    "        \n",
    "    print('Visual Levels of Stock')\n",
    "    items=Inventory.keys()\n",
    "    stocks = [int(Inventory[item][0]) for item in items]\n",
    "    plt.bar(items, stocks, color='Blue')\n",
    "    plt.xlabel(\"Items\")\n",
    "    plt.ylabel(\"Stock Quantity\")\n",
    "    plt.title(\"Stock Levels in Inventory\")\n",
    "    plt.tight_layout()\n",
    "    plt.show()\n",
    "    \n",
    "elif choice == 6:\n",
    "    print(\"    \")\n",
    "    print(\"Exiting Factory Inventory. Goodbye!\")\n",
    "else:\n",
    "    print(\"    \")\n",
    "    print(\"Please enter a valid input\")\n",
    "    "
   ]
  },
  {
   "cell_type": "code",
   "execution_count": 23,
   "id": "2a37cded-20f9-4ab6-b3da-eb14df61a80f",
   "metadata": {},
   "outputs": [
    {
     "name": "stdout",
     "output_type": "stream",
     "text": [
      "\t\t\t\t\t The Items in the inventory are arranged as follows: [Stock, Price]\n",
      "     \n",
      "Gear : Stock = 345, Price = 89\n",
      "Bolts : Stock = 667, Price = 24\n",
      "Nuts : Stock = 556, Price = 56\n",
      "Wire : Stock = 90, Price = 34\n"
     ]
    }
   ],
   "source": [
    "import matplotlib.pyplot as plt\n",
    "from datetime import datetime\n",
    "def Inventory():\n",
    "    print('\\t\\t\\t\\t\\t The Items in the inventory are arranged as follows: [Stock, Price]')\n",
    "    print('     ')\n",
    "    return{\n",
    "        'Gear': [345, 89],\n",
    "        'Bolts': [667, 24],\n",
    "        'Nuts': [556, 56],\n",
    "        'Wire': [90, 34]\n",
    "    }\n",
    "\n",
    "Inventory=Inventory()\n",
    "\n",
    "def Stock_report():\n",
    "    for item, values in Inventory.items():\n",
    "        print(f\"{item} : Stock = {values[0]}, Price = {values[1]}\")\n",
    "\n",
    "Stock_report()\n",
    "\n"
   ]
  },
  {
   "cell_type": "code",
   "execution_count": 37,
   "id": "802faecc-7fa5-4ded-a7e4-203a146d0dd4",
   "metadata": {},
   "outputs": [
    {
     "name": "stdout",
     "output_type": "stream",
     "text": [
      "\t\t\t\t\t\t Welcome to Factory Database!\n",
      "1. INVENTORY\n",
      "2. ADD NEW ITEMS \n",
      "3. REMOVE ITEM UNITS\n",
      "4. UPDATE STOCK\n",
      "5. VIEW STOCK\n",
      "6. EXIT\n"
     ]
    },
    {
     "name": "stdin",
     "output_type": "stream",
     "text": [
      "Enter the number of choice to explore the database=  2\n",
      "Enter name of new item or type 'cancel' to go back to main page:  er\n",
      "Enter stock:  ee\n"
     ]
    },
    {
     "ename": "ValueError",
     "evalue": "invalid literal for int() with base 10: 'ee'",
     "output_type": "error",
     "traceback": [
      "\u001b[0;31m---------------------------------------------------------------------------\u001b[0m",
      "\u001b[0;31mValueError\u001b[0m                                Traceback (most recent call last)",
      "Cell \u001b[0;32mIn[37], line 37\u001b[0m\n\u001b[1;32m     34\u001b[0m     \u001b[38;5;28mprint\u001b[39m(\u001b[38;5;124m\"\u001b[39m\u001b[38;5;124mThis item already exists. Use \u001b[39m\u001b[38;5;124m'\u001b[39m\u001b[38;5;124mUpdate Stock\u001b[39m\u001b[38;5;124m'\u001b[39m\u001b[38;5;124m option instead.\u001b[39m\u001b[38;5;124m\"\u001b[39m)\n\u001b[1;32m     36\u001b[0m \u001b[38;5;28;01melse\u001b[39;00m:\n\u001b[0;32m---> 37\u001b[0m     stock \u001b[38;5;241m=\u001b[39m \u001b[38;5;28mint\u001b[39m(\u001b[38;5;28minput\u001b[39m(\u001b[38;5;124m\"\u001b[39m\u001b[38;5;124mEnter stock: \u001b[39m\u001b[38;5;124m\"\u001b[39m))\n\u001b[1;32m     38\u001b[0m     price \u001b[38;5;241m=\u001b[39m \u001b[38;5;28mint\u001b[39m(\u001b[38;5;28minput\u001b[39m(\u001b[38;5;124m\"\u001b[39m\u001b[38;5;124mEnter price: \u001b[39m\u001b[38;5;124m\"\u001b[39m))\n\u001b[1;32m     39\u001b[0m     timestamp \u001b[38;5;241m=\u001b[39m datetime\u001b[38;5;241m.\u001b[39mnow()\u001b[38;5;241m.\u001b[39mstrftime(\u001b[38;5;124m\"\u001b[39m\u001b[38;5;124m%\u001b[39m\u001b[38;5;124mY-\u001b[39m\u001b[38;5;124m%\u001b[39m\u001b[38;5;124mm-\u001b[39m\u001b[38;5;132;01m%d\u001b[39;00m\u001b[38;5;124m \u001b[39m\u001b[38;5;124m%\u001b[39m\u001b[38;5;124mH:\u001b[39m\u001b[38;5;124m%\u001b[39m\u001b[38;5;124mM:\u001b[39m\u001b[38;5;124m%\u001b[39m\u001b[38;5;124mS\u001b[39m\u001b[38;5;124m\"\u001b[39m)\n",
      "\u001b[0;31mValueError\u001b[0m: invalid literal for int() with base 10: 'ee'"
     ]
    }
   ],
   "source": [
    "\n",
    "\n",
    "Inventory = {\n",
    "    'Gear': [20, 100],\n",
    "    'Bolts': [50, 5],\n",
    "    'Nuts': [70, 3],\n",
    "    'Wire': [100, 1]\n",
    "}\n",
    "\n",
    "def main_page():\n",
    "    print('\\t\\t\\t\\t\\t\\t Welcome to Factory Database!')\n",
    "    print('1. INVENTORY'),\n",
    "    print('2. ADD NEW ITEMS ')\n",
    "    print('3. REMOVE ITEM UNITS')\n",
    "    print('4. UPDATE STOCK')\n",
    "    print('5. VIEW STOCK')\n",
    "    print('6. EXIT')\n",
    "\n",
    "main_page()\n",
    "\n",
    "choice = int(input('Enter the number of choice to explore the database= '))\n",
    "\n",
    "if choice == 1:\n",
    "    print(\"    \")\n",
    "    print('\\t\\t\\t\\t\\t\\t Welcome to Inventory')\n",
    "    print('     ')\n",
    "    print('\\t', Inventory)\n",
    "\n",
    "elif choice == 2:\n",
    "    name = input(\"Enter name of new item or type 'cancel' to go back to main page: \")\n",
    "\n",
    "    if name.lower() == 'cancel':\n",
    "        main_page()\n",
    "\n",
    "    elif name in ['Gear', 'gear','bolts','Bolts','nuts','Nuts','wire', 'Wire']:\n",
    "        print(\"This item already exists. Use 'Update Stock' option instead.\")\n",
    "\n",
    "    else:\n",
    "        stock = int(input(\"Enter stock: \"))\n",
    "        price = int(input(\"Enter price: \"))\n",
    "        timestamp = datetime.now().strftime(\"%Y-%m-%d %H:%M:%S\")\n",
    "        Inventory[name] = [stock, price, f\"Last updated: {timestamp}\"]\n",
    "        print(f\"{name} added to inventory on {timestamp}.\")\n",
    "        print(\"Added list of items:\")\n",
    "        for item, values in Inventory.items():\n",
    "            print(f\"{item} : Stock = {values[0]}, Price = {values[1]}\")\n",
    "\n",
    "elif choice == 3:\n",
    "    print(\"    \")\n",
    "    name = str(input(\"Enter name of item to remove units from: \"))\n",
    "    if name in Inventory:\n",
    "        current_stock = int(Inventory[name][0])\n",
    "        print(f\"Current stock of {name}: {current_stock}\")\n",
    "        quantity = int(input(\"Enter number of units to remove: \"))\n",
    "        if quantity <= current_stock:\n",
    "            Inventory[name][0] -= quantity\n",
    "            print(f\"{quantity} units removed. Remaining stock of {name}: {Inventory[name][0]}\")\n",
    "        else:\n",
    "            print(\"Error: Cannot remove more units than available stock.\")\n",
    "    else:\n",
    "        print(\"Item not found.\")\n",
    "elif choice == 4:\n",
    "    print(\"    \")\n",
    "    name = input(\"Enter name of item to update: \")\n",
    "    print(\"    \")\n",
    "    if name in Inventory:\n",
    "        new_stock = input(\"Enter new stock (or press Enter to skip): \")\n",
    "        new_price = input(\"Enter new price (or press Enter to skip): \")\n",
    "        \n",
    "        if new_stock:\n",
    "            Inventory[name][0] = int(new_stock)\n",
    "            print(f\"Stock for {name} updated to {new_stock}\")\n",
    "        \n",
    "        if new_price:\n",
    "            Inventory[name][1] = int(new_price)\n",
    "            print(f\"Price for {name} updated to {new_price}\")\n",
    "        \n",
    "        if new_stock or new_price:\n",
    "            timestamp = datetime.now().strftime(\"%Y-%m-%d %H:%M:%S\")\n",
    "            if len(Inventory[name]) == 2:\n",
    "                Inventory[name].append(f\"Last updated: {timestamp}\")\n",
    "            else:\n",
    "                Inventory[name][2] = f\"Last updated: {timestamp}\"\n",
    "            print(f\"Inventory last modified on: {timestamp}\")\n",
    "\n",
    "        if not new_stock and not new_price:\n",
    "            print(\"No changes made.\")\n",
    "        else:\n",
    "            print(\"    \")\n",
    "            print(\"Updated list of items:\")\n",
    "            for item, values in Inventory.items():\n",
    "                print(f\"{item} : Stock = {values[0]}, Price = {values[1]}\")\n",
    "\n",
    "            print('Visual Levels of Stock')\n",
    "            items = Inventory.keys()\n",
    "            stocks = [int(Inventory[item][0]) for item in items]\n",
    "            plt.bar(items, stocks, color='Blue')\n",
    "            plt.xlabel(\"Items\")\n",
    "            plt.ylabel(\"Stock Quantity\")\n",
    "            plt.title(\"Stock Levels in Inventory\")\n",
    "            plt.tight_layout()\n",
    "            plt.show()\n",
    "    else:\n",
    "        print(\"Item not found.\")\n",
    "\n",
    "elif choice == 5:\n",
    "    print(\"    \")\n",
    "    print(\"\\n\\t\\t\\t\\t\\t\\t Stock Report\")\n",
    "    for item, values in Inventory.items():\n",
    "        if len(values) == 3:\n",
    "            print(f\"{item} : Stock = {values[0]}, Price = {values[1]}, {values[2]}\")\n",
    "        else:\n",
    "            print(f\"{item} : Stock = {values[0]}, Price = {values[1]}\")\n",
    "        \n",
    "    print('Visual Levels of Stock')\n",
    "    items = Inventory.keys()\n",
    "    stocks = [int(Inventory[item][0]) for item in items]\n",
    "    plt.bar(items, stocks, color='Blue')\n",
    "    plt.xlabel(\"Items\")\n",
    "    plt.ylabel(\"Stock Quantity\")\n",
    "    plt.title(\"Stock Levels in Inventory\")\n",
    "    plt.tight_layout()\n",
    "    plt.show()\n",
    "\n",
    "\n"
   ]
  },
  {
   "cell_type": "code",
   "execution_count": 45,
   "id": "6c8acddd-88e5-4262-9d4b-8aef880b4cfe",
   "metadata": {},
   "outputs": [
    {
     "name": "stdout",
     "output_type": "stream",
     "text": [
      "\t\t\t\t\t\t Welcome to Factory Database!\n",
      "1. INVENTORY\n",
      "2. ADD NEW ITEMS \n",
      "3. REMOVE ITEM UNITS\n",
      "4. UPDATE STOCK\n",
      "5. VIEW STOCK\n",
      "6. EXIT\n"
     ]
    },
    {
     "name": "stdin",
     "output_type": "stream",
     "text": [
      "Enter the number of choice to explore the database=  1\n"
     ]
    },
    {
     "name": "stdout",
     "output_type": "stream",
     "text": [
      "    \n",
      "\t\t\t\t\t\t Welcome to Inventory\n",
      "     \n",
      "\t {'Gear': [20, 100], 'Bolts': [50, 5], 'Nuts': [70, 3], 'Wire': [100, 1]}\n"
     ]
    }
   ],
   "source": [
    "from datetime import datetime\n",
    "import matplotlib.pyplot as plt\n",
    "\n",
    "Inventory = {\n",
    "    'Gear': [20, 100],\n",
    "    'Bolts': [50, 5],\n",
    "    'Nuts': [70, 3],\n",
    "    'Wire': [100, 1]\n",
    "}\n",
    "\n",
    "def main_page():\n",
    "    print('\\t\\t\\t\\t\\t\\t Welcome to Factory Database!')\n",
    "    print('1. INVENTORY'),\n",
    "    print('2. ADD NEW ITEMS ')\n",
    "    print('3. REMOVE ITEM UNITS')\n",
    "    print('4. UPDATE STOCK')\n",
    "    print('5. VIEW STOCK')\n",
    "    print('6. EXIT')\n",
    "\n",
    "main_page()\n",
    "\n",
    "choice = int(input('Enter the number of choice to explore the database= '))\n",
    "\n",
    "if choice == 1:\n",
    "    print(\"    \")\n",
    "    print('\\t\\t\\t\\t\\t\\t Welcome to Inventory')\n",
    "    print('     ')\n",
    "    print('\\t', Inventory)\n",
    "\n",
    "elif choice == 2:\n",
    "    name = input(\"Enter name of new item or type 'cancel' to go back to main page: \").capitalize()\n",
    "\n",
    "    if name.lower() == 'cancel':\n",
    "        main_page()\n",
    "\n",
    "    elif name in Inventory:\n",
    "        print(\"This item already exists. Use 'Update Stock' option instead.\")\n",
    "\n",
    "    else:\n",
    "        stock = int(input(\"Enter stock: \"))\n",
    "        price = int(input(\"Enter price: \"))\n",
    "        timestamp = datetime.now().strftime(\"%Y-%m-%d %H:%M:%S\")\n",
    "        Inventory[name] = [stock, price, f\"Last updated: {timestamp}\"]\n",
    "        print(f\"{name} added to inventory on {timestamp}.\")\n",
    "        print(\"Added list of items:\")\n",
    "        for item, values in Inventory.items():\n",
    "            print(f\"{item} : Stock = {values[0]}, Price = {values[1]}\")\n",
    "\n",
    "elif choice == 3:\n",
    "    print(\"    \")\n",
    "    name = str(input(\"Enter name of item to remove units from: \")).capitalize()\n",
    "    if name in Inventory:\n",
    "        current_stock = int(Inventory[name][0])\n",
    "        print(f\"Current stock of {name}: {current_stock}\")\n",
    "        quantity = int(input(\"Enter number of units to remove: \"))\n",
    "        if quantity <= current_stock:\n",
    "            Inventory[name][0] -= quantity\n",
    "            print(f\"{quantity} units removed. Remaining stock of {name}: {Inventory[name][0]}\")\n",
    "        else:\n",
    "            print(\"Error: Cannot remove more units than available stock.\")\n",
    "    else:\n",
    "        print(\"Item not found.\")\n",
    "\n",
    "elif choice == 4:\n",
    "    print(\"    \")\n",
    "    name = input(\"Enter name of item to update: \").capitalize()\n",
    "    print(\"    \")\n",
    "    if name in Inventory:\n",
    "        new_stock = input(\"Enter new stock (or press Enter to skip): \")\n",
    "        new_price = input(\"Enter new price (or press Enter to skip): \")\n",
    "\n",
    "        if new_stock:\n",
    "            Inventory[name][0] = int(new_stock)\n",
    "            print(f\"Stock for {name} updated to {new_stock}\")\n",
    "\n",
    "        if new_price:\n",
    "            Inventory[name][1] = int(new_price)\n",
    "            print(f\"Price for {name} updated to {new_price}\")\n",
    "\n",
    "        if new_stock or new_price:\n",
    "            timestamp = datetime.now().strftime(\"%Y-%m-%d %H:%M:%S\")\n",
    "            if len(Inventory[name]) == 2:\n",
    "                Inventory[name].append(f\"Last updated: {timestamp}\")\n",
    "            else:\n",
    "                Inventory[name][2] = f\"Last updated: {timestamp}\"\n",
    "            print(f\"Inventory last modified on: {timestamp}\")\n",
    "\n",
    "        if not new_stock and not new_price:\n",
    "            print(\"No changes made.\")\n",
    "        else:\n",
    "            print(\"    \")\n",
    "            print(\"Updated list of items:\")\n",
    "            for item, values in Inventory.items():\n",
    "                print(f\"{item} : Stock = {values[0]}, Price = {values[1]}\")\n",
    "\n",
    "            print('Visual Levels of Stock')\n",
    "            items = Inventory.keys()\n",
    "            stocks = [int(Inventory[item][0]) for item in items]\n",
    "            plt.bar(items, stocks, color='Blue')\n",
    "            plt.xlabel(\"Items\")\n",
    "            plt.ylabel(\"Stock Quantity\")\n",
    "            plt.title(\"Stock Levels in Inventory\")\n",
    "            plt.tight_layout()\n",
    "            plt.show()\n",
    "    else:\n",
    "        print(\"Item not found.\")\n",
    "\n",
    "elif choice == 5:\n",
    "    print(\"    \")\n",
    "    print(\"\\n\\t\\t\\t\\t\\t\\t Stock Report\")\n",
    "    for item, values in Inventory.items():\n",
    "        if len(values) == 3:\n",
    "            print(f\"{item} : Stock = {values[0]}, Price = {values[1]}, {values[2]}\")\n",
    "        else:\n",
    "            print(f\"{item} : Stock = {values[0]}, Price = {values[1]}\")\n",
    "\n",
    "    print('Visual Levels of Stock')\n",
    "    items = Inventory.keys()\n",
    "    stocks = [int(Inventory[item][0]) for item in items]\n",
    "    plt.bar(items, stocks, color='Blue')\n",
    "    plt.xlabel(\"Items\")\n",
    "    plt.ylabel(\"Stock Quantity\")\n",
    "    plt.title(\"Stock Levels in Inventory\")\n",
    "    plt.tight_layout()\n",
    "    plt.show()\n",
    "\n",
    "elif choice == 6:\n",
    "    print(\"Exiting the system. Goodbye!\")\n",
    "\n",
    "else:\n",
    "    print(\"Invalid choice. Please select a valid option.\")\n"
   ]
  },
  {
   "cell_type": "code",
   "execution_count": null,
   "id": "206b19c9-a686-4369-9f76-cfbc4e494496",
   "metadata": {},
   "outputs": [
    {
     "name": "stdout",
     "output_type": "stream",
     "text": [
      "\t\t\t\t\t\t Welcome to Factory Database!\n",
      "1. INVENTORY\n",
      "2. ADD NEW ITEMS\n",
      "3. REMOVE ITEM UNITS\n",
      "4. UPDATE STOCK\n",
      "5. VIEW STOCK\n",
      "6. EXIT\n"
     ]
    },
    {
     "name": "stdin",
     "output_type": "stream",
     "text": [
      "\n",
      "Enter the number of choice to explore the database:  2\n",
      "Enter name of new item or type 'cancel' to go back to main page:  dd\n",
      "Enter stock:  56\n",
      "Enter price:  56789\n"
     ]
    },
    {
     "name": "stdout",
     "output_type": "stream",
     "text": [
      "Dd added to inventory on 2025-04-19 15:16:18.\n",
      "Added list of items:\n",
      "Gear : Stock = 20, Price = 100\n",
      "Bolts : Stock = 50, Price = 5\n",
      "Nuts : Stock = 70, Price = 3\n",
      "Wire : Stock = 100, Price = 1\n",
      "Dd : Stock = 56, Price = 56789\n"
     ]
    },
    {
     "name": "stdin",
     "output_type": "stream",
     "text": [
      "\n",
      "Press Enter to return to main menu... 5\n"
     ]
    },
    {
     "name": "stdout",
     "output_type": "stream",
     "text": [
      "\t\t\t\t\t\t Welcome to Factory Database!\n",
      "1. INVENTORY\n",
      "2. ADD NEW ITEMS\n",
      "3. REMOVE ITEM UNITS\n",
      "4. UPDATE STOCK\n",
      "5. VIEW STOCK\n",
      "6. EXIT\n"
     ]
    },
    {
     "name": "stdin",
     "output_type": "stream",
     "text": [
      "\n",
      "Enter the number of choice to explore the database:  5\n"
     ]
    },
    {
     "name": "stdout",
     "output_type": "stream",
     "text": [
      "\n",
      "\t\t\t\t\t\t Stock Report\n",
      "Gear : Stock = 20, Price = 100\n",
      "Bolts : Stock = 50, Price = 5\n",
      "Nuts : Stock = 70, Price = 3\n",
      "Wire : Stock = 100, Price = 1\n",
      "Dd : Stock = 56, Price = 56789, Last updated: 2025-04-19 15:16:18\n",
      "\n",
      "Visual Levels of Stock\n"
     ]
    },
    {
     "data": {
      "image/png": "[encoded data removed]",
      "text/plain": [
       "<Figure size 640x480 with 1 Axes>"
      ]
     },
     "metadata": {},
     "output_type": "display_data"
    },
    {
     "name": "stdin",
     "output_type": "stream",
     "text": [
      "\n",
      "Press Enter to return to main menu... \n"
     ]
    },
    {
     "name": "stdout",
     "output_type": "stream",
     "text": [
      "\t\t\t\t\t\t Welcome to Factory Database!\n",
      "1. INVENTORY\n",
      "2. ADD NEW ITEMS\n",
      "3. REMOVE ITEM UNITS\n",
      "4. UPDATE STOCK\n",
      "5. VIEW STOCK\n",
      "6. EXIT\n"
     ]
    },
    {
     "name": "stdin",
     "output_type": "stream",
     "text": [
      "\n",
      "Enter the number of choice to explore the database:  1\n"
     ]
    },
    {
     "name": "stdout",
     "output_type": "stream",
     "text": [
      "\n",
      "\t\t\t\t\t\t Welcome to Inventory\n",
      "\n",
      "\t {'Gear': [20, 100], 'Bolts': [50, 5], 'Nuts': [70, 3], 'Wire': [100, 1], 'Dd': [56, 56789, 'Last updated: 2025-04-19 15:16:18']}\n"
     ]
    },
    {
     "name": "stdin",
     "output_type": "stream",
     "text": [
      "\n",
      "Press Enter to return to main menu... \n"
     ]
    },
    {
     "name": "stdout",
     "output_type": "stream",
     "text": [
      "\t\t\t\t\t\t Welcome to Factory Database!\n",
      "1. INVENTORY\n",
      "2. ADD NEW ITEMS\n",
      "3. REMOVE ITEM UNITS\n",
      "4. UPDATE STOCK\n",
      "5. VIEW STOCK\n",
      "6. EXIT\n"
     ]
    },
    {
     "name": "stdin",
     "output_type": "stream",
     "text": [
      "\n",
      "Enter the number of choice to explore the database:  2\n",
      "Enter name of new item or type 'cancel' to go back to main page:  gh\n",
      "Enter stock:  56\n",
      "Enter price:  44\n"
     ]
    },
    {
     "name": "stdout",
     "output_type": "stream",
     "text": [
      "Gh added to inventory on 2025-04-19 15:24:44.\n",
      "Added list of items:\n",
      "Gear : Stock = 20, Price = 100\n",
      "Bolts : Stock = 50, Price = 5\n",
      "Nuts : Stock = 70, Price = 3\n",
      "Wire : Stock = 100, Price = 1\n",
      "Dd : Stock = 56, Price = 56789\n",
      "Gh : Stock = 56, Price = 44\n"
     ]
    },
    {
     "name": "stdin",
     "output_type": "stream",
     "text": [
      "\n",
      "Press Enter to return to main menu... \n"
     ]
    },
    {
     "name": "stdout",
     "output_type": "stream",
     "text": [
      "\t\t\t\t\t\t Welcome to Factory Database!\n",
      "1. INVENTORY\n",
      "2. ADD NEW ITEMS\n",
      "3. REMOVE ITEM UNITS\n",
      "4. UPDATE STOCK\n",
      "5. VIEW STOCK\n",
      "6. EXIT\n"
     ]
    },
    {
     "name": "stdin",
     "output_type": "stream",
     "text": [
      "\n",
      "Enter the number of choice to explore the database:  2\n",
      "Enter name of new item or type 'cancel' to go back to main page:  ff\n",
      "Enter stock:  34\n",
      "Enter price:  56\n"
     ]
    },
    {
     "name": "stdout",
     "output_type": "stream",
     "text": [
      "Ff added to inventory on 2025-04-19 15:35:05.\n",
      "Added list of items:\n",
      "Gear : Stock = 20, Price = 100\n",
      "Bolts : Stock = 50, Price = 5\n",
      "Nuts : Stock = 70, Price = 3\n",
      "Wire : Stock = 100, Price = 1\n",
      "Dd : Stock = 56, Price = 56789\n",
      "Gh : Stock = 56, Price = 44\n",
      "Ff : Stock = 34, Price = 56\n"
     ]
    },
    {
     "name": "stdin",
     "output_type": "stream",
     "text": [
      "\n",
      "Press Enter to return to main menu... \n"
     ]
    },
    {
     "name": "stdout",
     "output_type": "stream",
     "text": [
      "\t\t\t\t\t\t Welcome to Factory Database!\n",
      "1. INVENTORY\n",
      "2. ADD NEW ITEMS\n",
      "3. REMOVE ITEM UNITS\n",
      "4. UPDATE STOCK\n",
      "5. VIEW STOCK\n",
      "6. EXIT\n"
     ]
    },
    {
     "name": "stdin",
     "output_type": "stream",
     "text": [
      "\n",
      "Enter the number of choice to explore the database:  3\n"
     ]
    },
    {
     "name": "stdout",
     "output_type": "stream",
     "text": [
      "\n"
     ]
    },
    {
     "name": "stdin",
     "output_type": "stream",
     "text": [
      "Enter name of item to remove units from:  ff\n"
     ]
    },
    {
     "name": "stdout",
     "output_type": "stream",
     "text": [
      "Current stock of Ff: 34\n"
     ]
    },
    {
     "name": "stdin",
     "output_type": "stream",
     "text": [
      "Enter number of units to remove:  23\n"
     ]
    },
    {
     "name": "stdout",
     "output_type": "stream",
     "text": [
      "23 units removed. Remaining stock of Ff: 11\n"
     ]
    }
   ],
   "source": [
    "from datetime import datetime\n",
    "import matplotlib.pyplot as plt\n",
    "\n",
    "Inventory = {\n",
    "    'Gear': [20, 100],\n",
    "    'Bolts': [50, 5],\n",
    "    'Nuts': [70, 3],\n",
    "    'Wire': [100, 1]\n",
    "}\n",
    "\n",
    "def main_page():\n",
    "    print('\\t\\t\\t\\t\\t\\t Welcome to Factory Database!')\n",
    "    print('1. INVENTORY')\n",
    "    print('2. ADD NEW ITEMS')\n",
    "    print('3. REMOVE ITEM UNITS')\n",
    "    print('4. UPDATE STOCK')\n",
    "    print('5. VIEW STOCK')\n",
    "    print('6. EXIT')\n",
    "\n",
    "while True:\n",
    "    main_page()\n",
    "    choice = int(input('\\nEnter the number of choice to explore the database: '))\n",
    "\n",
    "    if choice == 1:\n",
    "        print(\"\\n\\t\\t\\t\\t\\t\\t Welcome to Inventory\\n\")\n",
    "        print('\\t', Inventory)\n",
    "        input(\"\\nPress Enter to return to main menu...\")\n",
    "\n",
    "    elif choice == 2:\n",
    "        name = input(\"Enter name of new item or type 'cancel' to go back to main page: \").capitalize()\n",
    "        if name.lower() == 'cancel':\n",
    "            continue\n",
    "\n",
    "        elif name in Inventory:\n",
    "            print(\"This item already exists. Use 'Update Stock' option instead.\")\n",
    "\n",
    "        else:\n",
    "            stock = int(input(\"Enter stock: \"))\n",
    "            price = int(input(\"Enter price: \"))\n",
    "            timestamp = datetime.now().strftime(\"%Y-%m-%d %H:%M:%S\")\n",
    "            Inventory[name] = [stock, price, f\"Last updated: {timestamp}\"]\n",
    "            print(f\"{name} added to inventory on {timestamp}.\")\n",
    "            print(\"Added list of items:\")\n",
    "            for item, values in Inventory.items():\n",
    "                print(f\"{item} : Stock = {values[0]}, Price = {values[1]}\")\n",
    "\n",
    "        input(\"\\nPress Enter to return to main menu...\")\n",
    "\n",
    "    elif choice == 3:\n",
    "        print()\n",
    "        name = input(\"Enter name of item to remove units from: \").capitalize()\n",
    "        if name in Inventory:\n",
    "            current_stock = int(Inventory[name][0])\n",
    "            print(f\"Current stock of {name}: {current_stock}\")\n",
    "            quantity = int(input(\"Enter number of units to remove: \"))\n",
    "            if quantity <= current_stock:\n",
    "                Inventory[name][0] -= quantity\n",
    "                print(f\"{quantity} units removed. Remaining stock of {name}: {Inventory[name][0]}\")\n",
    "            else:\n",
    "                print(\"Error: Cannot remove more units than available stock.\")\n",
    "        else:\n",
    "            print(\"Item not found.\")\n",
    "\n",
    "        input(\"\\nPress Enter to return to main menu...\")\n",
    "\n",
    "    elif choice == 4:\n",
    "        print()\n",
    "        name = input(\"Enter name of item to update: \").capitalize()\n",
    "        print()\n",
    "        if name in Inventory:\n",
    "            new_stock = input(\"Enter new stock (or press Enter to skip): \")\n",
    "            new_price = input(\"Enter new price (or press Enter to skip): \")\n",
    "\n",
    "            if new_stock:\n",
    "                Inventory[name][0] = int(new_stock)\n",
    "                print(f\"Stock for {name} updated to {new_stock}\")\n",
    "\n",
    "            if new_price:\n",
    "                Inventory[name][1] = int(new_price)\n",
    "                print(f\"Price for {name} updated to {new_price}\")\n",
    "\n",
    "            if new_stock or new_price:\n",
    "                timestamp = datetime.now().strftime(\"%Y-%m-%d %H:%M:%S\")\n",
    "                if len(Inventory[name]) == 2:\n",
    "                    Inventory[name].append(f\"Last updated: {timestamp}\")\n",
    "                else:\n",
    "                    Inventory[name][2] = f\"Last updated: {timestamp}\"\n",
    "                print(f\"Inventory last modified on: {timestamp}\")\n",
    "\n",
    "            if not new_stock and not new_price:\n",
    "                print(\"No changes made.\")\n",
    "            else:\n",
    "                print(\"\\nUpdated list of items:\")\n",
    "                for item, values in Inventory.items():\n",
    "                    print(f\"{item} : Stock = {values[0]}, Price = {values[1]}\")\n",
    "\n",
    "                print('\\nVisual Levels of Stock')\n",
    "                items = Inventory.keys()\n",
    "                stocks = [int(Inventory[item][0]) for item in items]\n",
    "                plt.bar(items, stocks, color='Blue')\n",
    "                plt.xlabel(\"Items\")\n",
    "                plt.ylabel(\"Stock Quantity\")\n",
    "                plt.title(\"Stock Levels in Inventory\")\n",
    "                plt.tight_layout()\n",
    "                plt.show()\n",
    "        else:\n",
    "            print(\"Item not found.\")\n",
    "\n",
    "        input(\"\\nPress Enter to return to main menu...\")\n",
    "\n",
    "    elif choice == 5:\n",
    "        print(\"\\n\\t\\t\\t\\t\\t\\t Stock Report\")\n",
    "        for item, values in Inventory.items():\n",
    "            if len(values) == 3:\n",
    "                print(f\"{item} : Stock = {values[0]}, Price = {values[1]}, {values[2]}\")\n",
    "            else:\n",
    "                print(f\"{item} : Stock = {values[0]}, Price = {values[1]}\")\n",
    "\n",
    "        print('\\nVisual Levels of Stock')\n",
    "        items = Inventory.keys()\n",
    "        stocks = [int(Inventory[item][0]) for item in items]\n",
    "        plt.bar(items, stocks, color='Blue')\n",
    "        plt.xlabel(\"Items\")\n",
    "        plt.ylabel(\"Stock Quantity\")\n",
    "        plt.title(\"Stock Levels in Inventory\")\n",
    "        plt.tight_layout()\n",
    "        plt.show()\n",
    "\n",
    "        input(\"\\nPress Enter to return to main menu...\")\n",
    "\n",
    "    elif choice == 6:\n",
    "        print(\"Exiting the system. Goodbye!\")\n",
    "        break\n",
    "\n",
    "    else:\n",
    "        print(\"Invalid choice. Please select a valid option.\")\n",
    "        input(\"\\nPress Enter to return to main menu...\")\n"
   ]
  }
 ],
 "metadata": {
  "kernelspec": {
   "display_name": "Python [conda env:base] *",
   "language": "python",
   "name": "conda-base-py"
  },
  "language_info": {
   "codemirror_mode": {
    "name": "ipython",
    "version": 3
   },
   "file_extension": ".py",
   "mimetype": "text/x-python",
   "name": "python",
   "nbconvert_exporter": "python",
   "pygments_lexer": "ipython3",
   "version": "3.12.7"
  }
 },
 "nbformat": 4,
 "nbformat_minor": 5
}
